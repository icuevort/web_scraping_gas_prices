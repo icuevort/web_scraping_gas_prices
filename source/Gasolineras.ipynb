{
 "cells": [
  {
   "cell_type": "code",
   "execution_count": null,
   "metadata": {
    "pycharm": {
     "is_executing": true
    }
   },
   "outputs": [],
   "source": [
    "import requests\n",
    "import lxml.html as html\n",
    "import pandas as pd\n",
    "from selenium import webdriver\n",
    "from selenium.webdriver.chrome.options import Options\n",
    "from selenium.webdriver.support.ui import WebDriverWait\n",
    "from selenium.webdriver.support import expected_conditions as EC\n",
    "from selenium.webdriver.common.by import By\n",
    "import time\n",
    "from fake_useragent import UserAgent\n",
    "import math"
   ]
  },
  {
   "cell_type": "markdown",
   "metadata": {},
   "source": [
    "Url principal y creación del user-agent aleatorio"
   ]
  },
  {
   "cell_type": "code",
   "execution_count": null,
   "metadata": {},
   "outputs": [],
   "source": [
    "# Url principal\n",
    "urlPrincipal = 'https://www.dieselogasolina.com/buscador-gasolineras.html'\n",
    "\n",
    "# Item para generación aleatoria de user-agent\n",
    "ua = UserAgent()"
   ]
  },
  {
   "cell_type": "markdown",
   "metadata": {},
   "source": [
    "Listado expresiones X_PATH"
   ]
  },
  {
   "cell_type": "code",
   "execution_count": null,
   "metadata": {},
   "outputs": [],
   "source": [
    "# Url de todas las provincias\n",
    "urlProvincias = '//div[@class=\"mas_provincias\"]/ul/li/a[starts-with(@title, \"Gasolineras en la provincia\")]/@href'\n",
    "\n",
    "# Url de la información de las gasolineras\n",
    "urlGasolinerasX = '//a[@title=\"Ver datos de esta gasolinera y precios\"]'\n",
    "\n",
    "# Boton aceptar cookies\n",
    "acceptCookieX = '//*[@id=\"privacy_block\"]/div[3]/p/button'\n",
    "\n",
    "# Número de paginas de la tabla y boton de next\n",
    "numPagsX = '//span/a'\n",
    "nextButtonX = '//a[@class=\"paginate_button next\"]'\n",
    "\n",
    "\n",
    "# Datos de las gasolineras\n",
    "localidadX = 'body/div[2]/div[2]/div[2]/div/div[1]/div[1]/div/h1/text()'\n",
    "direccionX = '//h1/span/text()'\n",
    "tiposGasolinaX = '//li/span'\n",
    "preciosX = '//div/div[1]/div/div/div[7]/div/table/tbody/tr/td[1]'\n",
    "fechaReviX = '//*[@id=\"localizacion\"]/div[5]/div[3]/p[1]/b'\n",
    "fechaUltX = '//*[@id=\"localizacion\"]/div[5]/div[3]/p[2]/b'\n",
    "datosTablaX = '//*[@id=\"empresa\"]/div/p'"
   ]
  },
  {
   "cell_type": "markdown",
   "metadata": {},
   "source": [
    "Funciones"
   ]
  },
  {
   "cell_type": "code",
   "execution_count": null,
   "metadata": {},
   "outputs": [],
   "source": [
    "# Función para la obtención de los url de las provincias\n",
    "def get_provincias(url_padre):\n",
    "    userAgent = ua.random\n",
    "    print(\"User Agent: \" + userAgent)\n",
    "    headers = {\"User-Agent\": userAgent}\n",
    "    tries = range(3)\n",
    "    \n",
    "    for _ in tries:\n",
    "        try:\n",
    "            r = requests.get(url_padre, headers=headers)\n",
    "        except requests.exceptions.ConnectionError:\n",
    "            print(\"CONNECTION ERROR!\")\n",
    "            delay(20)\n",
    "        except requests.exceptions.Timeout:\n",
    "            print(\"TIMEOUT ERROR!\")\n",
    "            delay(20)\n",
    "        except requests.exceptions.RequestException:\n",
    "            print(\"REQUEST EXCEPTION ERROR!\")\n",
    "            delay(20)\n",
    "            \n",
    "    home = r.content\n",
    "\n",
    "    parser = html.fromstring(home)\n",
    "\n",
    "    provincias_url = parser.xpath(urlProvincias)\n",
    "    \n",
    "    return provincias_url"
   ]
  },
  {
   "cell_type": "code",
   "execution_count": null,
   "metadata": {},
   "outputs": [],
   "source": [
    "# Función para extraer las urls de todas las gasolineras \n",
    "# de la url de la provincia introducida.\n",
    "def get_gasolineras(provincias):\n",
    "    t0 = time.time()\n",
    "\n",
    "    urls = []\n",
    "    \n",
    "    for url in provincias:       \n",
    "        urls.append(get_gasolineras_provincia(url)) \n",
    "        delay(20)\n",
    "    \n",
    "    listaPlana = []\n",
    "    for elementos in urls:\n",
    "        for elemento in elementos:\n",
    "            listaPlana.append(elemento)\n",
    "            \n",
    "    conversion(time.time() - t0)\n",
    "    \n",
    "    return listaPlana"
   ]
  },
  {
   "cell_type": "code",
   "execution_count": null,
   "metadata": {},
   "outputs": [],
   "source": [
    "# Función auxiliar de get_gasolineras\n",
    "def get_gasolineras_provincia(url):\n",
    "    driver = driver_configuration()\n",
    "    listaDatos = []\n",
    "    listaPlana = []\n",
    "\n",
    "    driver.get(url)\n",
    "    print(\"User Agent: \" + driver.execute_script(\"return navigator.userAgent;\"))\n",
    "    \n",
    "    WebDriverWait(driver, 5).until(\n",
    "    EC.element_to_be_clickable(\n",
    "        (By.XPATH, \n",
    "        acceptCookieX))).click()\n",
    "    \n",
    "    numPags = [my_elem.text for my_elem in WebDriverWait(driver, 5).until(\n",
    "        EC.presence_of_all_elements_located((\n",
    "            By.XPATH, \n",
    "            numPagsX)))]\n",
    "    \n",
    "    numPags = int(numPags[-1])\n",
    "\n",
    "    listaAux = [my_elem.get_attribute(\"href\") \n",
    "             for my_elem in WebDriverWait(driver, 5).\n",
    "             until(EC.presence_of_all_elements_located((\n",
    "                 By.XPATH, \n",
    "                 urlGasolinerasX)))]\n",
    "\n",
    "    listaDatos.append(listaAux)\n",
    "\n",
    "    for i in range(numPags-1):   \n",
    "        WebDriverWait(driver, 5).until(\n",
    "            EC.element_to_be_clickable(\n",
    "                (By.XPATH, \n",
    "                nextButtonX))).click()\n",
    "\n",
    "        listaAux = [my_elem.get_attribute(\"href\") \n",
    "             for my_elem in WebDriverWait(driver, 5).\n",
    "             until(EC.presence_of_all_elements_located((\n",
    "                 By.XPATH, \n",
    "                 urlGasolinerasX)))]\n",
    "\n",
    "        listaDatos.append(listaAux)\n",
    "    \n",
    "    driver.quit()\n",
    "\n",
    "    for elementos in listaDatos:\n",
    "        for elemento in elementos:\n",
    "            listaPlana.append(elemento)\n",
    "        \n",
    "    return listaPlana"
   ]
  },
  {
   "cell_type": "code",
   "execution_count": null,
   "metadata": {},
   "outputs": [],
   "source": [
    "# Función para explorar la url y extraer los datos de interes\n",
    "def parser_content(url):\n",
    "    userAgent = ua.random\n",
    "    print(\"User Agent: \" + userAgent)\n",
    "    headers = {\"User-Agent\": userAgent}\n",
    "    nTries = range(3)\n",
    "\n",
    "    for _ in nTries:\n",
    "        try:\n",
    "            r = requests.get(url, headers=headers, timeout = 10)\n",
    "            break\n",
    "        except requests.exceptions.ConnectionError:\n",
    "            print(\"CONNECTION ERROR!\")\n",
    "            delay(20)    \n",
    "        except requests.exceptions.Timeout:\n",
    "            print(\"TIMEOUT ERROR!\")\n",
    "            delay(20)\n",
    "        except requests.exceptions.RequestException:\n",
    "            print(\"REQUESTEXCEPTION ERROR!\")\n",
    "            delay(20)\n",
    "\n",
    "    home = r.content\n",
    "\n",
    "    parser = html.fromstring(home)\n",
    "\n",
    "    provincia = None\n",
    "    localidad = None\n",
    "    direccion = None\n",
    "    margen = None\n",
    "    horario = None\n",
    "    latitud = None\n",
    "    longitud = None\n",
    "    empresa = None\n",
    "    precios = None\n",
    "    fechaRevi = None\n",
    "    fechaUlt = None\n",
    "    ventPubli = None\n",
    "\n",
    "    if r.status_code == 200:\n",
    "        locProv = parser.xpath(localidadX)\n",
    "        locProv = locProv[0].split(' en ')\n",
    "        locProv = locProv[1].rsplit(\" (\", 1)\n",
    "        localidad = locProv[0]\n",
    "        provincia = locProv[1].replace(\")\", \"\")\n",
    "\n",
    "        direccion = parser.xpath(direccionX)[0].strip()\n",
    "        \n",
    "        \n",
    "            \n",
    "        datosTabla = parser.xpath(datosTablaX) \n",
    "        for dato in datosTabla:\n",
    "            if \"Gasolinera\" in dato.text_content():\n",
    "                empresa = dato.text_content().replace(\"Gasolinera \", \"\").strip()\n",
    "            if \"Horario\" in dato.text_content():\n",
    "                horario = dato.text_content().replace(\"Horario: \", \"\").strip()\n",
    "            if \"blico\" in dato.text_content().lower():\n",
    "                ventPubli = dato.text_content().strip()\n",
    "            if \"Margen\" in dato.text_content():\n",
    "                margen = dato.text_content().replace(\"Margen de la carretera: \", \"\").strip()\n",
    "            if \"Lat,Lng\" in dato.text_content():\n",
    "                latLong = dato.text_content().replace(\"Lat,Lng: \", \"\").split(\",\")\n",
    "                latitud = latLong[0].strip()\n",
    "                longitud = latLong[1].strip()\n",
    "\n",
    "        tiposGasolina = parser.xpath(tiposGasolinaX)\n",
    "        precios = parser.xpath(preciosX)\n",
    "        precios = list(map(lambda t, p: t.text_content() + \" \" + p.text_content(), \n",
    "                      tiposGasolina, \n",
    "                      precios))\n",
    "\n",
    "        fechaRevi = parser.xpath(fechaReviX)[0].text_content().replace(\n",
    "            'Precios revisados el ', \"\").replace(\n",
    "            \".\", \"\").strip()\n",
    "\n",
    "        fechaUlt = parser.xpath(fechaUltX)[0].text_content().replace(\".\", \"\").strip()\n",
    "\n",
    "    return [provincia, localidad, direccion, \n",
    "            margen, horario, latitud, longitud, empresa, \n",
    "            precios, fechaRevi, fechaUlt, ventPubli]\n",
    " "
   ]
  },
  {
   "cell_type": "code",
   "execution_count": null,
   "metadata": {
    "run_control": {
     "marked": true
    }
   },
   "outputs": [],
   "source": [
    "# Función que configura el driver\n",
    "def driver_configuration():\n",
    "    # Opciones de navegación\n",
    "    options = Options()\n",
    "    options.add_argument('--start-maxima')\n",
    "    options.add_argument('--disable-extensions')\n",
    "    options.add_argument(\"user-agent=\" + ua.random)\n",
    "\n",
    "    return webdriver.Chrome(options=options)"
   ]
  },
  {
   "cell_type": "code",
   "execution_count": null,
   "metadata": {},
   "outputs": [],
   "source": [
    "# Función de espera\n",
    "def delay(s):\n",
    "    time.sleep(s)"
   ]
  },
  {
   "cell_type": "code",
   "execution_count": null,
   "metadata": {},
   "outputs": [],
   "source": [
    "# Función para convertir el tiempo de segundos a\n",
    "# 'h m s'\n",
    "def conversion(tt):\n",
    "    m, h = math.modf(tt/3600)\n",
    "    s, m = math.modf(m * 60)\n",
    "    s = s * 60\n",
    "    print(f'Tiempo total: {int(h)}h {int(m)}m {int(s)}s')"
   ]
  },
  {
   "cell_type": "markdown",
   "metadata": {},
   "source": [
    "Ejecución del programa de Web-Scraping"
   ]
  },
  {
   "cell_type": "code",
   "execution_count": null,
   "metadata": {
    "run_control": {
     "marked": true
    }
   },
   "outputs": [],
   "source": [
    "linksProvincias = get_provincias(urlPrincipal)"
   ]
  },
  {
   "cell_type": "code",
   "execution_count": null,
   "metadata": {},
   "outputs": [],
   "source": [
    "gasolineras = get_gasolineras(linksProvincias)"
   ]
  },
  {
   "cell_type": "code",
   "execution_count": null,
   "metadata": {
    "scrolled": true
   },
   "outputs": [],
   "source": [
    "datos = []\n",
    "num = len(gasolineras)  \n",
    "ts = time.time()\n",
    "\n",
    "# Mediante el bucle se registran los datos de cada gasolinera\n",
    "for link in gasolineras:\n",
    "    num -= 1\n",
    "    datos.append(parser_content(link))\n",
    "    print(f'Gasolineras que faltan por explorar: {num}\\n')\n",
    "    if num%500 == 0:\n",
    "        delay(30)\n",
    "\n",
    "conversion(time.time() - ts)"
   ]
  },
  {
   "cell_type": "markdown",
   "metadata": {},
   "source": [
    "Creación del archivo CSV donde se guardarán los datos."
   ]
  },
  {
   "cell_type": "code",
   "execution_count": null,
   "metadata": {},
   "outputs": [],
   "source": [
    "# Creación de un dataframe con los nombres de las columnas\n",
    "df = pd.DataFrame(columns=['provincia', 'localidad', 'direccion', \n",
    "            'margen', 'horario', 'latitud', 'longitud', 'empresa', \n",
    "            'precios', 'fechaRevision', 'fechaUltima', 'ventaPublico'])\n",
    "print(df)"
   ]
  },
  {
   "cell_type": "code",
   "execution_count": null,
   "metadata": {
    "run_control": {
     "marked": true
    }
   },
   "outputs": [],
   "source": [
    "# Carga de los datos en el dataframe\n",
    "for info in datos:\n",
    "    df=df.append({'provincia': info[0], 'localidad': info[1], 'direccion': info[2], \n",
    "                'margen': info[3], 'horario': info[4], 'latitud': info[5], \n",
    "                'longitud': info[6], 'empresa': info[7], 'precios': info[8],\n",
    "                'fechaRevision': info[9], 'fechaUltima': info[10], 'ventaPublico': info[11]},\n",
    "                 ignore_index=True)"
   ]
  },
  {
   "cell_type": "code",
   "execution_count": null,
   "metadata": {},
   "outputs": [],
   "source": [
    "# Creación del archivo Gasolineras.csv\n",
    "df.to_csv('Gasolineras.csv', index=False)"
   ]
  }
 ],
 "metadata": {
  "kernelspec": {
   "display_name": "Python (Web Scraping)",
   "language": "python",
   "name": "web_scraping"
  },
  "language_info": {
   "codemirror_mode": {
    "name": "ipython",
    "version": 3
   },
   "file_extension": ".py",
   "mimetype": "text/x-python",
   "name": "python",
   "nbconvert_exporter": "python",
   "pygments_lexer": "ipython3",
   "version": "3.7.13"
  },
  "toc": {
   "base_numbering": 1,
   "nav_menu": {},
   "number_sections": true,
   "sideBar": true,
   "skip_h1_title": false,
   "title_cell": "Table of Contents",
   "title_sidebar": "Contents",
   "toc_cell": false,
   "toc_position": {},
   "toc_section_display": true,
   "toc_window_display": false
  },
  "varInspector": {
   "cols": {
    "lenName": 16,
    "lenType": 16,
    "lenVar": 40
   },
   "kernels_config": {
    "python": {
     "delete_cmd_postfix": "",
     "delete_cmd_prefix": "del ",
     "library": "var_list.py",
     "varRefreshCmd": "print(var_dic_list())"
    },
    "r": {
     "delete_cmd_postfix": ") ",
     "delete_cmd_prefix": "rm(",
     "library": "var_list.r",
     "varRefreshCmd": "cat(var_dic_list()) "
    }
   },
   "types_to_exclude": [
    "module",
    "function",
    "builtin_function_or_method",
    "instance",
    "_Feature"
   ],
   "window_display": false
  }
 },
 "nbformat": 4,
 "nbformat_minor": 1
}
